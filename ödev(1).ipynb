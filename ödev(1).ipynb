{
 "cells": [
  {
   "cell_type": "code",
   "execution_count": 102,
   "metadata": {},
   "outputs": [],
   "source": [
    "import numpy as np\n",
    "import pandas as pd\n",
    "import seaborn as sns \n",
    "import pandas as pd\n",
    "import numpy as np\n",
    "import matplotlib.pyplot as plt\n",
    "#sns.set_theme()\n"
   ]
  },
  {
   "cell_type": "code",
   "execution_count": 213,
   "metadata": {},
   "outputs": [
    {
     "name": "stdout",
     "output_type": "stream",
     "text": [
      "   inanverilenveriler\n",
      "i                    \n",
      "1                  56\n",
      "2                  45\n",
      "3                  68\n",
      "4                  77\n"
     ]
    }
   ],
   "source": [
    "data = np.array([[56,45,68,77]]).T\n",
    "x = data[:,0]\n",
    "data1 = pd.DataFrame({'i':np.arange(1,5), 'inanverilenveriler':[56,45,68,77]})\n",
    "data1.set_index('i',inplace = True )\n",
    "data1\n",
    "#y = data[:,1]\n",
    "print(data1)"
   ]
  },
  {
   "cell_type": "code",
   "execution_count": 214,
   "metadata": {},
   "outputs": [
    {
     "data": {
      "text/plain": [
       "inanverilenveriler    61.5\n",
       "dtype: float64"
      ]
     },
     "execution_count": 214,
     "metadata": {},
     "output_type": "execute_result"
    }
   ],
   "source": [
    "data1.mean()"
   ]
  },
  {
   "cell_type": "code",
   "execution_count": 214,
   "metadata": {},
   "outputs": [
    {
     "data": {
      "text/plain": [
       "inanverilenveriler    61.5\n",
       "dtype: float64"
      ]
     },
     "execution_count": 214,
     "metadata": {},
     "output_type": "execute_result"
    }
   ],
   "source": [
    "data1.mean()"
   ]
  },
  {
   "cell_type": "code",
   "execution_count": 215,
   "metadata": {},
   "outputs": [
    {
     "data": {
      "text/plain": [
       "(i\n",
       " 1    False\n",
       " 2    False\n",
       " 3     True\n",
       " 4     True\n",
       " Name: inanverilenveriler, dtype: bool,\n",
       " i\n",
       " 1     True\n",
       " 2     True\n",
       " 3    False\n",
       " 4    False\n",
       " Name: inanverilenveriler, dtype: bool)"
      ]
     },
     "execution_count": 215,
     "metadata": {},
     "output_type": "execute_result"
    }
   ],
   "source": [
    "filtre1 =  (data1.iloc[:,0] >= 67)\n",
    "filtre2 = (data1.iloc[:,0]< 67)\n",
    "filtre2\n",
    "filtre1,filtre2"
   ]
  },
  {
   "cell_type": "code",
   "execution_count": 216,
   "metadata": {},
   "outputs": [
    {
     "data": {
      "text/plain": [
       "i\n",
       "1    False\n",
       "2    False\n",
       "3     True\n",
       "4     True\n",
       "Name: inanverilenveriler, dtype: bool"
      ]
     },
     "execution_count": 216,
     "metadata": {},
     "output_type": "execute_result"
    }
   ],
   "source": [
    "filtre1"
   ]
  },
  {
   "cell_type": "code",
   "execution_count": 108,
   "metadata": {},
   "outputs": [
    {
     "data": {
      "text/plain": [
       "i\n",
       "1     True\n",
       "2     True\n",
       "3    False\n",
       "4    False\n",
       "Name: inanverilenveriler, dtype: bool"
      ]
     },
     "execution_count": 108,
     "metadata": {},
     "output_type": "execute_result"
    }
   ],
   "source": [
    "filtre2"
   ]
  },
  {
   "cell_type": "code",
   "execution_count": 109,
   "metadata": {},
   "outputs": [
    {
     "data": {
      "text/plain": [
       "(   inanverilenveriler\n",
       " i                    \n",
       " 1                  56\n",
       " 2                  45,\n",
       "    inanverilenveriler\n",
       " i                    \n",
       " 3                  68\n",
       " 4                  77)"
      ]
     },
     "execution_count": 109,
     "metadata": {},
     "output_type": "execute_result"
    }
   ],
   "source": [
    "filtre1 =  (data1.iloc[:,0] >= 67)\n",
    "verilerdesecilimbuyuk = data1[filtre1]\n",
    "verilerdesecilimbuyuk\n",
    "filtre2 = (data1.iloc[:,0]< 67)\n",
    "verilerdesecilimkucuk = data1[filtre2]\n",
    "verilerdesecilimkucuk,verilerdesecilimbuyuk"
   ]
  },
  {
   "cell_type": "code",
   "execution_count": 191,
   "metadata": {},
   "outputs": [
    {
     "data": {
      "text/plain": [
       "(i\n",
       " 1    56\n",
       " 2    45\n",
       " Name: inanverilenveriler, dtype: int64,\n",
       " i\n",
       " 3    68\n",
       " 4    77\n",
       " Name: inanverilenveriler, dtype: int64)"
      ]
     },
     "execution_count": 191,
     "metadata": {},
     "output_type": "execute_result"
    }
   ],
   "source": [
    "y = verilerdesecilimkucuk.iloc[:,0]\n",
    "x = verilerdesecilimbuyuk.iloc[:,0]\n",
    "y,x"
   ]
  },
  {
   "cell_type": "code",
   "execution_count": 161,
   "metadata": {},
   "outputs": [
    {
     "data": {
      "text/plain": [
       "i\n",
       "3    4624\n",
       "4    5929\n",
       "Name: inanverilenveriler, dtype: int64"
      ]
     },
     "execution_count": 161,
     "metadata": {},
     "output_type": "execute_result"
    }
   ],
   "source": [
    "z = x*x\n",
    "z"
   ]
  },
  {
   "cell_type": "code",
   "execution_count": 278,
   "metadata": {},
   "outputs": [
    {
     "name": "stdout",
     "output_type": "stream",
     "text": [
      "mutlak: 102.7278\n",
      "total:   10553\n",
      "\n",
      "mutlak approximately: 102.73\n",
      "total:   10553\n",
      "\n",
      "67 den büyük:   [4624 5929]\n"
     ]
    }
   ],
   "source": [
    "yz = np.array(z[0:,])\n",
    "total = np.sum(yz)\n",
    "mutlak = np.sqrt(total)\n",
    "mutlak,yz,total\n",
    "print(\"mutlak: {:7.4f}\\ntotal: {:7d}\\n\".format(mutlak,total,z))\n",
    "print(\"mutlak approximately: {:6.2f}\\ntotal: {:7d}\\n\".format(mutlak,total,z))\n",
    "print(\"67 den büyük:  \", yz)"
   ]
  },
  {
   "cell_type": "code",
   "execution_count": 277,
   "metadata": {},
   "outputs": [
    {
     "name": "stdout",
     "output_type": "stream",
     "text": [
      "eksiltme_toplam_67:       33\n",
      "\n",
      "67 den çıkarma :   [11 22]\n",
      "67 den küçük :   [56 45]\n"
     ]
    }
   ],
   "source": [
    "xz = np.array(y[0:,])\n",
    "eksiltme = 67 -xz\n",
    "eksiltme \n",
    "eksiltme_toplam_67 =np.sum(eksiltme)\n",
    "eksiltme_toplam\n",
    "print(\"eksiltme_toplam_67:      {:3.0f}\\n\".format(eksiltme_toplam_67))\n",
    "print( \"67 den çıkarma :  \",  eksiltme   )\n",
    "print( \"67 den küçük :  \"  ,   xz)"
   ]
  },
  {
   "cell_type": "code",
   "execution_count": null,
   "metadata": {},
   "outputs": [],
   "source": []
  },
  {
   "cell_type": "code",
   "execution_count": null,
   "metadata": {},
   "outputs": [],
   "source": []
  }
 ],
 "metadata": {
  "kernelspec": {
   "display_name": "Python 3",
   "language": "python",
   "name": "python3"
  },
  "language_info": {
   "codemirror_mode": {
    "name": "ipython",
    "version": 3
   },
   "file_extension": ".py",
   "mimetype": "text/x-python",
   "name": "python",
   "nbconvert_exporter": "python",
   "pygments_lexer": "ipython3",
   "version": "3.8.3"
  }
 },
 "nbformat": 4,
 "nbformat_minor": 4
}
